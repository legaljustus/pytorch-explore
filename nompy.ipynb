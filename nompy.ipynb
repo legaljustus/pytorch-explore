{
 "cells": [
  {
   "cell_type": "markdown",
   "metadata": {},
   "source": [
    "So this is numpy (file ending in .ipynb) this is used more to write explanatory code but can also get user inputs etc."
   ]
  },
  {
   "cell_type": "code",
   "execution_count": null,
   "metadata": {},
   "outputs": [],
   "source": [
    "import numpy as np\n"
   ]
  }
 ],
 "metadata": {
  "kernelspec": {
   "display_name": "Python 3.9.12 64-bit ('anaconda3')",
   "language": "python",
   "name": "python3"
  },
  "language_info": {
   "name": "python",
   "version": "3.9.12"
  },
  "orig_nbformat": 4,
  "vscode": {
   "interpreter": {
    "hash": "4ef4c340c5f25035c510dfce143bb7e825dc3754b0eb44f0d4762d444a7179d6"
   }
  }
 },
 "nbformat": 4,
 "nbformat_minor": 2
}
