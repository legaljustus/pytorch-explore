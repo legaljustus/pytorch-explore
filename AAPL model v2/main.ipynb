{
 "cells": [
  {
   "cell_type": "code",
   "execution_count": 36,
   "metadata": {},
   "outputs": [
    {
     "data": {
      "text/html": [
       "<div>\n",
       "<style scoped>\n",
       "    .dataframe tbody tr th:only-of-type {\n",
       "        vertical-align: middle;\n",
       "    }\n",
       "\n",
       "    .dataframe tbody tr th {\n",
       "        vertical-align: top;\n",
       "    }\n",
       "\n",
       "    .dataframe thead th {\n",
       "        text-align: right;\n",
       "    }\n",
       "</style>\n",
       "<table border=\"1\" class=\"dataframe\">\n",
       "  <thead>\n",
       "    <tr style=\"text-align: right;\">\n",
       "      <th></th>\n",
       "      <th>Date</th>\n",
       "      <th>Close</th>\n",
       "      <th>Volume</th>\n",
       "      <th>Open</th>\n",
       "      <th>High</th>\n",
       "      <th>Low</th>\n",
       "    </tr>\n",
       "  </thead>\n",
       "  <tbody>\n",
       "    <tr>\n",
       "      <th>2514</th>\n",
       "      <td>2012-08-17</td>\n",
       "      <td>23.1468</td>\n",
       "      <td>441829183</td>\n",
       "      <td>22.8572</td>\n",
       "      <td>23.1497</td>\n",
       "      <td>22.8147</td>\n",
       "    </tr>\n",
       "    <tr>\n",
       "      <th>2513</th>\n",
       "      <td>2012-08-20</td>\n",
       "      <td>23.7554</td>\n",
       "      <td>611969715</td>\n",
       "      <td>23.2147</td>\n",
       "      <td>23.7554</td>\n",
       "      <td>23.2107</td>\n",
       "    </tr>\n",
       "    <tr>\n",
       "      <th>2512</th>\n",
       "      <td>2012-08-21</td>\n",
       "      <td>23.4308</td>\n",
       "      <td>811169756</td>\n",
       "      <td>23.9579</td>\n",
       "      <td>24.1029</td>\n",
       "      <td>23.2261</td>\n",
       "    </tr>\n",
       "    <tr>\n",
       "      <th>2511</th>\n",
       "      <td>2012-08-22</td>\n",
       "      <td>23.8882</td>\n",
       "      <td>563600295</td>\n",
       "      <td>23.3722</td>\n",
       "      <td>23.8929</td>\n",
       "      <td>23.1468</td>\n",
       "    </tr>\n",
       "    <tr>\n",
       "      <th>2510</th>\n",
       "      <td>2012-08-23</td>\n",
       "      <td>23.6654</td>\n",
       "      <td>419420792</td>\n",
       "      <td>23.7897</td>\n",
       "      <td>23.9250</td>\n",
       "      <td>23.6125</td>\n",
       "    </tr>\n",
       "  </tbody>\n",
       "</table>\n",
       "</div>"
      ],
      "text/plain": [
       "           Date    Close     Volume     Open     High      Low\n",
       "2514 2012-08-17  23.1468  441829183  22.8572  23.1497  22.8147\n",
       "2513 2012-08-20  23.7554  611969715  23.2147  23.7554  23.2107\n",
       "2512 2012-08-21  23.4308  811169756  23.9579  24.1029  23.2261\n",
       "2511 2012-08-22  23.8882  563600295  23.3722  23.8929  23.1468\n",
       "2510 2012-08-23  23.6654  419420792  23.7897  23.9250  23.6125"
      ]
     },
     "execution_count": 36,
     "metadata": {},
     "output_type": "execute_result"
    }
   ],
   "source": [
    "import pandas as pd\n",
    "import numpy as np\n",
    "\n",
    "filepath = '/home/justus/ml-exploration/pytorch-explore/AAPL model v1/AAPL.csv'\n",
    "\n",
    "df = pd.read_csv(filepath)\n",
    "df['Date'] = pd.to_datetime(df['Date'])\n",
    "df = df.sort_values('Date')\n",
    "\n",
    "\n",
    "df.head()"
   ]
  },
  {
   "cell_type": "code",
   "execution_count": 37,
   "metadata": {},
   "outputs": [
    {
     "data": {
      "text/plain": [
       "<AxesSubplot:xlabel='Date'>"
      ]
     },
     "execution_count": 37,
     "metadata": {},
     "output_type": "execute_result"
    },
    {
     "data": {
      "image/png": "[encoded data removed]",
      "text/plain": [
       "<Figure size 432x288 with 1 Axes>"
      ]
     },
     "metadata": {
      "needs_background": "light"
     },
     "output_type": "display_data"
    }
   ],
   "source": [
    "import matplotlib.pyplot as plt\n",
    "import seaborn as sns\n",
    "\n",
    "df.plot(kind='line', x='Date', y='Close')\n"
   ]
  },
  {
   "cell_type": "code",
   "execution_count": 38,
   "metadata": {},
   "outputs": [
    {
     "name": "stderr",
     "output_type": "stream",
     "text": [
      "/tmp/ipykernel_17175/852040389.py:5: SettingWithCopyWarning: \n",
      "A value is trying to be set on a copy of a slice from a DataFrame.\n",
      "Try using .loc[row_indexer,col_indexer] = value instead\n",
      "\n",
      "See the caveats in the documentation: https://pandas.pydata.org/pandas-docs/stable/user_guide/indexing.html#returning-a-view-versus-a-copy\n",
      "  price['Close'] = scaler.fit_transform(price['Close'].values.reshape(-1,1))\n"
     ]
    },
    {
     "data": {
      "text/html": [
       "<div>\n",
       "<style scoped>\n",
       "    .dataframe tbody tr th:only-of-type {\n",
       "        vertical-align: middle;\n",
       "    }\n",
       "\n",
       "    .dataframe tbody tr th {\n",
       "        vertical-align: top;\n",
       "    }\n",
       "\n",
       "    .dataframe thead th {\n",
       "        text-align: right;\n",
       "    }\n",
       "</style>\n",
       "<table border=\"1\" class=\"dataframe\">\n",
       "  <thead>\n",
       "    <tr style=\"text-align: right;\">\n",
       "      <th></th>\n",
       "      <th>Close</th>\n",
       "    </tr>\n",
       "  </thead>\n",
       "  <tbody>\n",
       "    <tr>\n",
       "      <th>2514</th>\n",
       "      <td>-0.890525</td>\n",
       "    </tr>\n",
       "    <tr>\n",
       "      <th>2513</th>\n",
       "      <td>-0.883283</td>\n",
       "    </tr>\n",
       "    <tr>\n",
       "      <th>2512</th>\n",
       "      <td>-0.887146</td>\n",
       "    </tr>\n",
       "    <tr>\n",
       "      <th>2511</th>\n",
       "      <td>-0.881702</td>\n",
       "    </tr>\n",
       "    <tr>\n",
       "      <th>2510</th>\n",
       "      <td>-0.884354</td>\n",
       "    </tr>\n",
       "  </tbody>\n",
       "</table>\n",
       "</div>"
      ],
      "text/plain": [
       "         Close\n",
       "2514 -0.890525\n",
       "2513 -0.883283\n",
       "2512 -0.887146\n",
       "2511 -0.881702\n",
       "2510 -0.884354"
      ]
     },
     "execution_count": 38,
     "metadata": {},
     "output_type": "execute_result"
    }
   ],
   "source": [
    "from sklearn.preprocessing import MinMaxScaler\n",
    "\n",
    "scaler = MinMaxScaler(feature_range=(-1, 1))\n",
    "price= df[['Close']]\n",
    "price['Close'] = scaler.fit_transform(price['Close'].values.reshape(-1,1))\n",
    "\n",
    "price.head()"
   ]
  },
  {
   "cell_type": "code",
   "execution_count": 39,
   "metadata": {},
   "outputs": [],
   "source": [
    "def split_data(stock, lookback):\n",
    "    data_raw = stock.to_numpy()\n",
    "    data = []\n",
    "\n",
    "    for index in range(len(data_raw) - lookback):\n",
    "        data.append(data_raw[index: index + lookback])\n",
    "\n",
    "    data = np.array(data)\n",
    "    test_set_size = int(np.round(0.2*data.shape[0]))\n",
    "    train_set_size = data.shape[0] - (test_set_size);\n",
    "\n",
    "    x_train = data[:train_set_size,:-1,:]\n",
    "    y_train = data[:train_set_size,-1,:]\n",
    "\n",
    "    x_test = data[train_set_size:,:-1]\n",
    "    y_test = data[train_set_size:,-1,:]\n",
    "\n",
    "    return [x_train, y_train, x_test, y_test]\n",
    "\n"
   ]
  },
  {
   "cell_type": "code",
   "execution_count": 40,
   "metadata": {},
   "outputs": [],
   "source": [
    "lookback = 20\n",
    "x_train, y_train, x_test, y_test = split_data(price, lookback)"
   ]
  },
  {
   "cell_type": "code",
   "execution_count": 41,
   "metadata": {},
   "outputs": [],
   "source": [
    "import torch\n",
    "import torch.nn as nn\n",
    "import torch.optim as optim\n",
    "\n",
    "\n",
    "x_train = torch.from_numpy(x_train).type(torch.Tensor)\n",
    "x_test = torch.from_numpy(x_test).type(torch.Tensor)\n",
    "y_train_gru = torch.from_numpy(y_train).type(torch.Tensor)\n",
    "y_test_gru = torch.from_numpy(y_test).type(torch.Tensor)\n"
   ]
  },
  {
   "cell_type": "code",
   "execution_count": 42,
   "metadata": {},
   "outputs": [],
   "source": [
    "input_dim = 1\n",
    "hidden_dim = 32\n",
    "num_layers = 3\n",
    "output_dim = 1\n",
    "num_epochs = 2000"
   ]
  },
  {
   "cell_type": "code",
   "execution_count": 43,
   "metadata": {},
   "outputs": [],
   "source": [
    "class GRU(nn.Module):\n",
    "    def __init__(self, input_dim, hidden_dim, num_layers, output_dim):\n",
    "        super(GRU, self).__init__()\n",
    "        self.hidden_dim = hidden_dim\n",
    "        self.num_layers = num_layers\n",
    "\n",
    "        self.gru = nn.GRU(input_dim, hidden_dim, num_layers, batch_first=True)\n",
    "        self.fc = nn.Linear(hidden_dim, output_dim)\n",
    "        \n",
    "    def forward(self, x):\n",
    "        h0 = torch.zeros(self.num_layers, x.size(0), self.hidden_dim, device=\"cuda\").requires_grad_()\n",
    "        out, (hn) = self.gru(x, (h0.detach()))\n",
    "        out = self.fc(out[:, -1, :])\n",
    "        return out"
   ]
  },
  {
   "cell_type": "code",
   "execution_count": 44,
   "metadata": {},
   "outputs": [],
   "source": [
    "torch.cuda.set_device(0)\n",
    "\n",
    "x_train = x_train.cuda()\n",
    "x_test = x_test.cuda()\n",
    "y_train_gru = y_train_gru.cuda()\n",
    "y_test_gru = y_test_gru.cuda()\n"
   ]
  },
  {
   "cell_type": "code",
   "execution_count": 45,
   "metadata": {},
   "outputs": [],
   "source": [
    "def build_model(params):\n",
    "    model = GRU(input_dim=input_dim, hidden_dim=params['n_node'], output_dim=output_dim, num_layers=params['n_layer'])\n",
    "    return(\n",
    "        model\n",
    "    )"
   ]
  },
  {
   "cell_type": "code",
   "execution_count": 46,
   "metadata": {},
   "outputs": [],
   "source": [
    "import time\n",
    "\n",
    "\n",
    "def train_and_evaluate(param, model):\n",
    "\n",
    "    model = GRU(input_dim=input_dim, hidden_dim=param['n_node'], output_dim=output_dim, num_layers=param['n_layer'])\n",
    "    criterion = torch.nn.MSELoss(reduction='mean')\n",
    "    optimizer = getattr(optim, param['optimizer'])(model.parameters(), lr= param['learning_rate'])\n",
    "\n",
    "    model = model.cuda()\n",
    "\n",
    "    hist = np.zeros(num_epochs)\n",
    "    start_time = time.time()\n",
    "    gru = []\n",
    "\n",
    "    for t in range(num_epochs):\n",
    "        y_train_pred = model(x_train)\n",
    "\n",
    "        loss = criterion(y_train_pred, y_train_gru)\n",
    "        hist[t] = loss.item()\n",
    "        MSE = loss.item()\n",
    "\n",
    "        optimizer.zero_grad\n",
    "        loss.backward()\n",
    "        optimizer.step()\n",
    "\n",
    "    return MSE\n"
   ]
  },
  {
   "cell_type": "code",
   "execution_count": 47,
   "metadata": {},
   "outputs": [],
   "source": [
    "def objective(trial):\n",
    "\n",
    "    params = {\n",
    "        'n_node': trial.suggest_int(\"n_node\", 20, 50),\n",
    "        'n_layer': trial.suggest_int(\"n_layer\", 1, 5),\n",
    "        'learning_rate': trial.suggest_loguniform('learning_rate', 1e-5, 1e-1),\n",
    "        'optimizer': trial.suggest_categorical(\"optimizer\", [\"Adam\", \"RMSprop\", \"SGD\"]),\n",
    "    }\n",
    "\n",
    "    model=build_model(params)\n",
    "\n",
    "    MSE= train_and_evaluate(params, model)\n",
    "\n",
    "    return MSE"
   ]
  },
  {
   "cell_type": "code",
   "execution_count": 49,
   "metadata": {},
   "outputs": [
    {
     "name": "stderr",
     "output_type": "stream",
     "text": [
      "\u001b[32m[I 2022-08-21 17:35:27,778]\u001b[0m A new study created in memory with name: no-name-e53fe339-b554-4fd3-a9f1-85a621182350\u001b[0m\n",
      "\u001b[32m[I 2022-08-21 17:35:28,503]\u001b[0m Trial 0 finished with value: 0.05921158567070961 and parameters: {'n_node': 28, 'n_layer': 2, 'learning_rate': 0.0006039770857829567, 'optimizer': 'SGD'}. Best is trial 0 with value: 0.05921158567070961.\u001b[0m\n",
      "\u001b[32m[I 2022-08-21 17:35:29,674]\u001b[0m Trial 1 finished with value: 0.14718817174434662 and parameters: {'n_node': 50, 'n_layer': 2, 'learning_rate': 0.005203412591131421, 'optimizer': 'SGD'}. Best is trial 0 with value: 0.05921158567070961.\u001b[0m\n",
      "\u001b[32m[I 2022-08-21 17:35:30,117]\u001b[0m Trial 2 finished with value: 0.08773688971996307 and parameters: {'n_node': 21, 'n_layer': 1, 'learning_rate': 0.00017531692585143373, 'optimizer': 'RMSprop'}. Best is trial 0 with value: 0.05921158567070961.\u001b[0m\n",
      "\u001b[32m[I 2022-08-21 17:35:31,599]\u001b[0m Trial 3 finished with value: 0.39496585726737976 and parameters: {'n_node': 45, 'n_layer': 2, 'learning_rate': 0.0001245154442531247, 'optimizer': 'Adam'}. Best is trial 0 with value: 0.05921158567070961.\u001b[0m\n",
      "\u001b[32m[I 2022-08-21 17:35:32,948]\u001b[0m Trial 4 finished with value: 0.011158058419823647 and parameters: {'n_node': 50, 'n_layer': 2, 'learning_rate': 0.0020109359828287365, 'optimizer': 'RMSprop'}. Best is trial 4 with value: 0.011158058419823647.\u001b[0m\n",
      "\u001b[32m[I 2022-08-21 17:35:34,408]\u001b[0m Trial 5 finished with value: 0.06194281950592995 and parameters: {'n_node': 45, 'n_layer': 2, 'learning_rate': 5.184402681777376e-05, 'optimizer': 'RMSprop'}. Best is trial 4 with value: 0.011158058419823647.\u001b[0m\n",
      "\u001b[32m[I 2022-08-21 17:35:36,533]\u001b[0m Trial 6 finished with value: 0.14933577179908752 and parameters: {'n_node': 48, 'n_layer': 3, 'learning_rate': 0.009084445890276432, 'optimizer': 'SGD'}. Best is trial 4 with value: 0.011158058419823647.\u001b[0m\n",
      "\u001b[32m[I 2022-08-21 17:35:37,768]\u001b[0m Trial 7 finished with value: 0.035665981471538544 and parameters: {'n_node': 31, 'n_layer': 4, 'learning_rate': 0.00034958104310430746, 'optimizer': 'RMSprop'}. Best is trial 4 with value: 0.011158058419823647.\u001b[0m\n",
      "\u001b[32m[I 2022-08-21 17:35:38,404]\u001b[0m Trial 8 finished with value: 0.05737463757395744 and parameters: {'n_node': 28, 'n_layer': 2, 'learning_rate': 0.0002976488187227091, 'optimizer': 'SGD'}. Best is trial 4 with value: 0.011158058419823647.\u001b[0m\n",
      "\u001b[32m[I 2022-08-21 17:35:41,161]\u001b[0m Trial 9 finished with value: 0.2578687369823456 and parameters: {'n_node': 42, 'n_layer': 5, 'learning_rate': 6.848080179699963e-05, 'optimizer': 'SGD'}. Best is trial 4 with value: 0.011158058419823647.\u001b[0m\n",
      "\u001b[32m[I 2022-08-21 17:35:43,377]\u001b[0m Trial 10 finished with value: 1.182708978652954 and parameters: {'n_node': 37, 'n_layer': 4, 'learning_rate': 0.03513884714879266, 'optimizer': 'Adam'}. Best is trial 4 with value: 0.011158058419823647.\u001b[0m\n",
      "\u001b[32m[I 2022-08-21 17:35:45,435]\u001b[0m Trial 11 finished with value: 0.6357947587966919 and parameters: {'n_node': 33, 'n_layer': 4, 'learning_rate': 1.0011195191925482e-05, 'optimizer': 'RMSprop'}. Best is trial 4 with value: 0.011158058419823647.\u001b[0m\n",
      "\u001b[32m[I 2022-08-21 17:35:47,610]\u001b[0m Trial 12 finished with value: 0.02862289734184742 and parameters: {'n_node': 37, 'n_layer': 4, 'learning_rate': 0.0028754443064867253, 'optimizer': 'RMSprop'}. Best is trial 4 with value: 0.011158058419823647.\u001b[0m\n",
      "\u001b[32m[I 2022-08-21 17:35:49,380]\u001b[0m Trial 13 finished with value: 0.040182698518037796 and parameters: {'n_node': 38, 'n_layer': 3, 'learning_rate': 0.0024106195171228213, 'optimizer': 'RMSprop'}. Best is trial 4 with value: 0.011158058419823647.\u001b[0m\n",
      "\u001b[32m[I 2022-08-21 17:35:50,585]\u001b[0m Trial 14 finished with value: 0.07330252230167389 and parameters: {'n_node': 20, 'n_layer': 5, 'learning_rate': 0.06671949927012207, 'optimizer': 'RMSprop'}. Best is trial 4 with value: 0.011158058419823647.\u001b[0m\n",
      "\u001b[32m[I 2022-08-21 17:35:51,328]\u001b[0m Trial 15 finished with value: 0.003306221216917038 and parameters: {'n_node': 41, 'n_layer': 1, 'learning_rate': 0.0025248336991285833, 'optimizer': 'RMSprop'}. Best is trial 15 with value: 0.003306221216917038.\u001b[0m\n",
      "\u001b[32m[I 2022-08-21 17:35:52,103]\u001b[0m Trial 16 finished with value: 0.055272337049245834 and parameters: {'n_node': 43, 'n_layer': 1, 'learning_rate': 0.013766889586388033, 'optimizer': 'RMSprop'}. Best is trial 15 with value: 0.003306221216917038.\u001b[0m\n",
      "\u001b[32m[I 2022-08-21 17:35:52,858]\u001b[0m Trial 17 finished with value: 0.11300252377986908 and parameters: {'n_node': 41, 'n_layer': 1, 'learning_rate': 0.0013261774597980408, 'optimizer': 'Adam'}. Best is trial 15 with value: 0.003306221216917038.\u001b[0m\n",
      "\u001b[32m[I 2022-08-21 17:35:53,675]\u001b[0m Trial 18 finished with value: 23.51483917236328 and parameters: {'n_node': 48, 'n_layer': 1, 'learning_rate': 0.02169536558293019, 'optimizer': 'RMSprop'}. Best is trial 15 with value: 0.003306221216917038.\u001b[0m\n",
      "\u001b[32m[I 2022-08-21 17:35:55,702]\u001b[0m Trial 19 finished with value: 0.04390508681535721 and parameters: {'n_node': 50, 'n_layer': 3, 'learning_rate': 0.0018182115239323115, 'optimizer': 'RMSprop'}. Best is trial 15 with value: 0.003306221216917038.\u001b[0m\n",
      "\u001b[32m[I 2022-08-21 17:35:56,451]\u001b[0m Trial 20 finished with value: 0.2196551263332367 and parameters: {'n_node': 40, 'n_layer': 1, 'learning_rate': 0.006230849956303675, 'optimizer': 'Adam'}. Best is trial 15 with value: 0.003306221216917038.\u001b[0m\n",
      "\u001b[32m[I 2022-08-21 17:35:58,195]\u001b[0m Trial 21 finished with value: 0.05754939839243889 and parameters: {'n_node': 37, 'n_layer': 3, 'learning_rate': 0.003491638817241572, 'optimizer': 'RMSprop'}. Best is trial 15 with value: 0.003306221216917038.\u001b[0m\n",
      "\u001b[32m[I 2022-08-21 17:36:00,268]\u001b[0m Trial 22 finished with value: 0.021973639726638794 and parameters: {'n_node': 34, 'n_layer': 4, 'learning_rate': 0.0009756986060806914, 'optimizer': 'RMSprop'}. Best is trial 15 with value: 0.003306221216917038.\u001b[0m\n",
      "\u001b[32m[I 2022-08-21 17:36:01,441]\u001b[0m Trial 23 finished with value: 0.013983760960400105 and parameters: {'n_node': 33, 'n_layer': 2, 'learning_rate': 0.0008190644692100138, 'optimizer': 'RMSprop'}. Best is trial 15 with value: 0.003306221216917038.\u001b[0m\n",
      "\u001b[32m[I 2022-08-21 17:36:02,121]\u001b[0m Trial 24 finished with value: 0.018713390454649925 and parameters: {'n_node': 30, 'n_layer': 2, 'learning_rate': 0.0006750569376459073, 'optimizer': 'RMSprop'}. Best is trial 15 with value: 0.003306221216917038.\u001b[0m\n",
      "\u001b[32m[I 2022-08-21 17:36:02,585]\u001b[0m Trial 25 finished with value: 0.027209511026740074 and parameters: {'n_node': 26, 'n_layer': 1, 'learning_rate': 0.0010816360505820678, 'optimizer': 'RMSprop'}. Best is trial 15 with value: 0.003306221216917038.\u001b[0m\n",
      "\u001b[32m[I 2022-08-21 17:36:03,887]\u001b[0m Trial 26 finished with value: 0.021159682422876358 and parameters: {'n_node': 45, 'n_layer': 2, 'learning_rate': 0.00037115195528038486, 'optimizer': 'RMSprop'}. Best is trial 15 with value: 0.003306221216917038.\u001b[0m\n",
      "\u001b[32m[I 2022-08-21 17:36:04,509]\u001b[0m Trial 27 finished with value: 0.01915629580616951 and parameters: {'n_node': 24, 'n_layer': 2, 'learning_rate': 0.010866705099015023, 'optimizer': 'RMSprop'}. Best is trial 15 with value: 0.003306221216917038.\u001b[0m\n",
      "\u001b[32m[I 2022-08-21 17:36:05,057]\u001b[0m Trial 28 finished with value: 0.020040301606059074 and parameters: {'n_node': 32, 'n_layer': 1, 'learning_rate': 0.004300043301652741, 'optimizer': 'RMSprop'}. Best is trial 15 with value: 0.003306221216917038.\u001b[0m\n",
      "\u001b[32m[I 2022-08-21 17:36:06,790]\u001b[0m Trial 29 finished with value: 0.20371611416339874 and parameters: {'n_node': 35, 'n_layer': 3, 'learning_rate': 0.0006247654235133132, 'optimizer': 'Adam'}. Best is trial 15 with value: 0.003306221216917038.\u001b[0m\n"
     ]
    }
   ],
   "source": [
    "import optuna\n",
    "\n",
    "num_epochs = 30\n",
    "\n",
    "study = optuna.create_study(direction=\"minimize\", sampler=optuna.samplers.TPESampler())\n",
    "study.optimize(objective, n_trials=30)\n",
    "\n"
   ]
  },
  {
   "cell_type": "code",
   "execution_count": 50,
   "metadata": {},
   "outputs": [
    {
     "name": "stdout",
     "output_type": "stream",
     "text": [
      "n_node: 41\n",
      "n_layer: 1\n",
      "learning_rate: 0.0025248336991285833\n",
      "optimizer: RMSprop\n"
     ]
    }
   ],
   "source": [
    "best_trial = study.best_trial\n",
    "\n",
    "for key, value in best_trial.params.items():\n",
    "    print(\"{}: {}\".format(key, value))"
   ]
  },
  {
   "cell_type": "markdown",
   "metadata": {},
   "source": [
    "Add pruning"
   ]
  },
  {
   "cell_type": "code",
   "execution_count": 51,
   "metadata": {},
   "outputs": [],
   "source": [
    "def build_model(trial):\n",
    "    model = GRU(input_dim=input_dim, hidden_dim=trial.suggest_int('n_node', 20, 50), output_dim=output_dim, num_layers=trial.suggest_int('n_layer', 1, 5))\n",
    "\n",
    "    return model\n",
    "\n",
    "def train_and_evaluate(param, model, trial):\n",
    "    \n",
    "    criterion = torch.nn.MSELoss(reduction='mean')\n",
    "    optimizer = getattr(optim, param['optimizer'])(model.parameters(), lr= param['learning_rate'])\n",
    "\n",
    "    model = model.cuda()\n",
    "    criterion = criterion.cuda()\n",
    "\n",
    "    hist = np.zeros(num_epochs)\n",
    "    start_time = time.time()\n",
    "    gru = []\n",
    "    \n",
    "    for t in range(num_epochs):\n",
    "        y_train_pred = model(x_train)\n",
    "\n",
    "        loss = criterion(y_train_pred, y_train_gru)\n",
    "        hist[t] = loss.item()\n",
    "        MSE = loss.item()\n",
    "\n",
    "        optimizer.zero_grad\n",
    "        loss.backward()\n",
    "        optimizer.step()\n",
    "\n",
    "        trial.report(MSE, t)\n",
    "        \n",
    "        if trial.should_prune():\n",
    "            raise optuna.exceptions.TrialPruned()\n",
    "\n",
    "    return MSE"
   ]
  },
  {
   "cell_type": "code",
   "execution_count": 53,
   "metadata": {},
   "outputs": [
    {
     "name": "stderr",
     "output_type": "stream",
     "text": [
      "\u001b[32m[I 2022-08-21 17:50:58,571]\u001b[0m A new study created in memory with name: no-name-68871cce-a82f-4c63-8a8b-384142526e6c\u001b[0m\n",
      "\u001b[32m[I 2022-08-21 17:51:01,616]\u001b[0m Trial 0 finished with value: 0.0018853861838579178 and parameters: {'n_node': 26, 'n_layer': 3, 'learning_rate': 0.0020127001146762608, 'optimizer': 'RMSprop'}. Best is trial 0 with value: 0.0018853861838579178.\u001b[0m\n",
      "\u001b[32m[I 2022-08-21 17:51:09,035]\u001b[0m Trial 1 finished with value: 178.96949768066406 and parameters: {'n_node': 38, 'n_layer': 4, 'learning_rate': 0.04073590379586779, 'optimizer': 'Adam'}. Best is trial 0 with value: 0.0018853861838579178.\u001b[0m\n",
      "\u001b[32m[I 2022-08-21 17:51:12,239]\u001b[0m Trial 2 finished with value: 2.8905506134033203 and parameters: {'n_node': 26, 'n_layer': 3, 'learning_rate': 0.012903931280732658, 'optimizer': 'Adam'}. Best is trial 0 with value: 0.0018853861838579178.\u001b[0m\n",
      "\u001b[32m[I 2022-08-21 17:51:16,023]\u001b[0m Trial 3 finished with value: 0.8523167371749878 and parameters: {'n_node': 28, 'n_layer': 4, 'learning_rate': 0.08721322819451327, 'optimizer': 'RMSprop'}. Best is trial 0 with value: 0.0018853861838579178.\u001b[0m\n",
      "\u001b[32m[I 2022-08-21 17:51:17,461]\u001b[0m Trial 4 finished with value: 0.2589825987815857 and parameters: {'n_node': 25, 'n_layer': 1, 'learning_rate': 0.0011402318663645248, 'optimizer': 'SGD'}. Best is trial 0 with value: 0.0018853861838579178.\u001b[0m\n",
      "\u001b[32m[I 2022-08-21 17:51:17,487]\u001b[0m Trial 5 pruned. \u001b[0m\n",
      "\u001b[32m[I 2022-08-21 17:51:17,773]\u001b[0m Trial 6 pruned. \u001b[0m\n",
      "\u001b[32m[I 2022-08-21 17:51:17,944]\u001b[0m Trial 7 pruned. \u001b[0m\n",
      "\u001b[32m[I 2022-08-21 17:51:18,039]\u001b[0m Trial 8 pruned. \u001b[0m\n",
      "\u001b[32m[I 2022-08-21 17:51:18,212]\u001b[0m Trial 9 pruned. \u001b[0m\n",
      "\u001b[32m[I 2022-08-21 17:51:18,274]\u001b[0m Trial 10 pruned. \u001b[0m\n",
      "\u001b[32m[I 2022-08-21 17:51:18,321]\u001b[0m Trial 11 pruned. \u001b[0m\n",
      "\u001b[32m[I 2022-08-21 17:51:18,363]\u001b[0m Trial 12 pruned. \u001b[0m\n",
      "\u001b[32m[I 2022-08-21 17:51:20,805]\u001b[0m Trial 13 finished with value: 0.008479959331452847 and parameters: {'n_node': 32, 'n_layer': 2, 'learning_rate': 0.003483214300969425, 'optimizer': 'RMSprop'}. Best is trial 0 with value: 0.0018853861838579178.\u001b[0m\n",
      "\u001b[32m[I 2022-08-21 17:51:20,842]\u001b[0m Trial 14 pruned. \u001b[0m\n",
      "\u001b[32m[I 2022-08-21 17:51:20,892]\u001b[0m Trial 15 pruned. \u001b[0m\n",
      "\u001b[32m[I 2022-08-21 17:51:20,929]\u001b[0m Trial 16 pruned. \u001b[0m\n",
      "\u001b[32m[I 2022-08-21 17:51:20,971]\u001b[0m Trial 17 pruned. \u001b[0m\n",
      "\u001b[32m[I 2022-08-21 17:51:21,022]\u001b[0m Trial 18 pruned. \u001b[0m\n",
      "\u001b[32m[I 2022-08-21 17:51:21,081]\u001b[0m Trial 19 pruned. \u001b[0m\n",
      "\u001b[32m[I 2022-08-21 17:51:21,135]\u001b[0m Trial 20 pruned. \u001b[0m\n",
      "\u001b[32m[I 2022-08-21 17:51:21,174]\u001b[0m Trial 21 pruned. \u001b[0m\n",
      "\u001b[32m[I 2022-08-21 17:51:21,209]\u001b[0m Trial 22 pruned. \u001b[0m\n",
      "\u001b[32m[I 2022-08-21 17:51:21,243]\u001b[0m Trial 23 pruned. \u001b[0m\n",
      "\u001b[32m[I 2022-08-21 17:51:21,288]\u001b[0m Trial 24 pruned. \u001b[0m\n",
      "\u001b[32m[I 2022-08-21 17:51:21,334]\u001b[0m Trial 25 pruned. \u001b[0m\n",
      "\u001b[32m[I 2022-08-21 17:51:21,384]\u001b[0m Trial 26 pruned. \u001b[0m\n",
      "\u001b[32m[I 2022-08-21 17:51:21,455]\u001b[0m Trial 27 pruned. \u001b[0m\n",
      "\u001b[32m[I 2022-08-21 17:51:21,508]\u001b[0m Trial 28 pruned. \u001b[0m\n",
      "\u001b[32m[I 2022-08-21 17:51:21,567]\u001b[0m Trial 29 pruned. \u001b[0m\n"
     ]
    }
   ],
   "source": [
    "def objective(trial):\n",
    "\n",
    "    params = {\n",
    "        'n_node': trial.suggest_int(\"n_node\", 20, 50),\n",
    "        'n_layer': trial.suggest_int(\"n_layer\", 1, 5),\n",
    "        'learning_rate': trial.suggest_loguniform('learning_rate', 1e-5, 1e-1),\n",
    "        'optimizer': trial.suggest_categorical(\"optimizer\", [\"Adam\", \"RMSprop\", \"SGD\"]),\n",
    "    }\n",
    "\n",
    "    model = build_model(trial)\n",
    "\n",
    "    MSE = train_and_evaluate(params, model, trial)\n",
    "\n",
    "    return MSE\n",
    "\n",
    "num_epochs = 100\n",
    "    \n",
    "study = optuna.create_study(direction=\"minimize\", sampler=optuna.samplers.TPESampler(), pruner=optuna.pruners.MedianPruner())\n",
    "study.optimize(objective, n_trials=30)"
   ]
  }
 ],
 "metadata": {
  "kernelspec": {
   "display_name": "Python 3.9.12 64-bit ('anaconda3')",
   "language": "python",
   "name": "python3"
  },
  "language_info": {
   "codemirror_mode": {
    "name": "ipython",
    "version": 3
   },
   "file_extension": ".py",
   "mimetype": "text/x-python",
   "name": "python",
   "nbconvert_exporter": "python",
   "pygments_lexer": "ipython3",
   "version": "3.9.12"
  },
  "orig_nbformat": 4,
  "vscode": {
   "interpreter": {
    "hash": "4ef4c340c5f25035c510dfce143bb7e825dc3754b0eb44f0d4762d444a7179d6"
   }
  }
 },
 "nbformat": 4,
 "nbformat_minor": 2
}
